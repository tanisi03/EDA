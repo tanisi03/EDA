{
  "nbformat": 4,
  "nbformat_minor": 0,
  "metadata": {
    "colab": {
      "provenance": []
    },
    "kernelspec": {
      "name": "python3",
      "display_name": "Python 3"
    },
    "language_info": {
      "name": "python"
    }
  },
  "cells": [
    {
      "cell_type": "markdown",
      "source": [
        "Assignment Questions"
      ],
      "metadata": {
        "id": "jSE1qeY3ncPh"
      }
    },
    {
      "cell_type": "markdown",
      "source": [
        "EDA - 1"
      ],
      "metadata": {
        "id": "UGaJG8LindAx"
      }
    },
    {
      "cell_type": "code",
      "source": [
        "from matplotlib import pyplot as plt\n",
        "import pandas as pd"
      ],
      "metadata": {
        "id": "cmzK0Adu2E7d"
      },
      "execution_count": 1,
      "outputs": []
    },
    {
      "cell_type": "code",
      "source": [
        "df = pd.read_csv(\"BIKE DETAILS.csv\")\n",
        "df"
      ],
      "metadata": {
        "colab": {
          "base_uri": "https://localhost:8080/",
          "height": 423
        },
        "id": "pQ1kssPe2GgR",
        "outputId": "94226b07-a870-4ba7-ab61-093f76edd565"
      },
      "execution_count": 3,
      "outputs": [
        {
          "output_type": "execute_result",
          "data": {
            "text/plain": [
              "                                     name  selling_price  year seller_type  \\\n",
              "0               Royal Enfield Classic 350         175000  2019  Individual   \n",
              "1                               Honda Dio          45000  2017  Individual   \n",
              "2     Royal Enfield Classic Gunmetal Grey         150000  2018  Individual   \n",
              "3       Yamaha Fazer FI V 2.0 [2016-2018]          65000  2015  Individual   \n",
              "4                   Yamaha SZ [2013-2014]          20000  2011  Individual   \n",
              "...                                   ...            ...   ...         ...   \n",
              "1056                            Activa 3g          17000  2010  Individual   \n",
              "1057                     Honda CB twister          16000  2012  Individual   \n",
              "1058                   Bajaj Discover 125          15000  2013  Individual   \n",
              "1059                       Honda CB Shine          12000  2009  Individual   \n",
              "1060                     Bajaj Pulsar 150          10000  2008  Individual   \n",
              "\n",
              "          owner  km_driven  ex_showroom_price  \n",
              "0     1st owner        350                NaN  \n",
              "1     1st owner       5650                NaN  \n",
              "2     1st owner      12000           148114.0  \n",
              "3     1st owner      23000            89643.0  \n",
              "4     2nd owner      21000                NaN  \n",
              "...         ...        ...                ...  \n",
              "1056  1st owner     500000            52000.0  \n",
              "1057  1st owner      33000            51000.0  \n",
              "1058  2nd owner      35000            57000.0  \n",
              "1059  1st owner      53000            58000.0  \n",
              "1060  1st owner      92233            75000.0  \n",
              "\n",
              "[1061 rows x 7 columns]"
            ],
            "text/html": [
              "\n",
              "  <div id=\"df-d5677be4-9e7f-4b11-83f8-cfbfaeb1bf00\" class=\"colab-df-container\">\n",
              "    <div>\n",
              "<style scoped>\n",
              "    .dataframe tbody tr th:only-of-type {\n",
              "        vertical-align: middle;\n",
              "    }\n",
              "\n",
              "    .dataframe tbody tr th {\n",
              "        vertical-align: top;\n",
              "    }\n",
              "\n",
              "    .dataframe thead th {\n",
              "        text-align: right;\n",
              "    }\n",
              "</style>\n",
              "<table border=\"1\" class=\"dataframe\">\n",
              "  <thead>\n",
              "    <tr style=\"text-align: right;\">\n",
              "      <th></th>\n",
              "      <th>name</th>\n",
              "      <th>selling_price</th>\n",
              "      <th>year</th>\n",
              "      <th>seller_type</th>\n",
              "      <th>owner</th>\n",
              "      <th>km_driven</th>\n",
              "      <th>ex_showroom_price</th>\n",
              "    </tr>\n",
              "  </thead>\n",
              "  <tbody>\n",
              "    <tr>\n",
              "      <th>0</th>\n",
              "      <td>Royal Enfield Classic 350</td>\n",
              "      <td>175000</td>\n",
              "      <td>2019</td>\n",
              "      <td>Individual</td>\n",
              "      <td>1st owner</td>\n",
              "      <td>350</td>\n",
              "      <td>NaN</td>\n",
              "    </tr>\n",
              "    <tr>\n",
              "      <th>1</th>\n",
              "      <td>Honda Dio</td>\n",
              "      <td>45000</td>\n",
              "      <td>2017</td>\n",
              "      <td>Individual</td>\n",
              "      <td>1st owner</td>\n",
              "      <td>5650</td>\n",
              "      <td>NaN</td>\n",
              "    </tr>\n",
              "    <tr>\n",
              "      <th>2</th>\n",
              "      <td>Royal Enfield Classic Gunmetal Grey</td>\n",
              "      <td>150000</td>\n",
              "      <td>2018</td>\n",
              "      <td>Individual</td>\n",
              "      <td>1st owner</td>\n",
              "      <td>12000</td>\n",
              "      <td>148114.0</td>\n",
              "    </tr>\n",
              "    <tr>\n",
              "      <th>3</th>\n",
              "      <td>Yamaha Fazer FI V 2.0 [2016-2018]</td>\n",
              "      <td>65000</td>\n",
              "      <td>2015</td>\n",
              "      <td>Individual</td>\n",
              "      <td>1st owner</td>\n",
              "      <td>23000</td>\n",
              "      <td>89643.0</td>\n",
              "    </tr>\n",
              "    <tr>\n",
              "      <th>4</th>\n",
              "      <td>Yamaha SZ [2013-2014]</td>\n",
              "      <td>20000</td>\n",
              "      <td>2011</td>\n",
              "      <td>Individual</td>\n",
              "      <td>2nd owner</td>\n",
              "      <td>21000</td>\n",
              "      <td>NaN</td>\n",
              "    </tr>\n",
              "    <tr>\n",
              "      <th>...</th>\n",
              "      <td>...</td>\n",
              "      <td>...</td>\n",
              "      <td>...</td>\n",
              "      <td>...</td>\n",
              "      <td>...</td>\n",
              "      <td>...</td>\n",
              "      <td>...</td>\n",
              "    </tr>\n",
              "    <tr>\n",
              "      <th>1056</th>\n",
              "      <td>Activa 3g</td>\n",
              "      <td>17000</td>\n",
              "      <td>2010</td>\n",
              "      <td>Individual</td>\n",
              "      <td>1st owner</td>\n",
              "      <td>500000</td>\n",
              "      <td>52000.0</td>\n",
              "    </tr>\n",
              "    <tr>\n",
              "      <th>1057</th>\n",
              "      <td>Honda CB twister</td>\n",
              "      <td>16000</td>\n",
              "      <td>2012</td>\n",
              "      <td>Individual</td>\n",
              "      <td>1st owner</td>\n",
              "      <td>33000</td>\n",
              "      <td>51000.0</td>\n",
              "    </tr>\n",
              "    <tr>\n",
              "      <th>1058</th>\n",
              "      <td>Bajaj Discover 125</td>\n",
              "      <td>15000</td>\n",
              "      <td>2013</td>\n",
              "      <td>Individual</td>\n",
              "      <td>2nd owner</td>\n",
              "      <td>35000</td>\n",
              "      <td>57000.0</td>\n",
              "    </tr>\n",
              "    <tr>\n",
              "      <th>1059</th>\n",
              "      <td>Honda CB Shine</td>\n",
              "      <td>12000</td>\n",
              "      <td>2009</td>\n",
              "      <td>Individual</td>\n",
              "      <td>1st owner</td>\n",
              "      <td>53000</td>\n",
              "      <td>58000.0</td>\n",
              "    </tr>\n",
              "    <tr>\n",
              "      <th>1060</th>\n",
              "      <td>Bajaj Pulsar 150</td>\n",
              "      <td>10000</td>\n",
              "      <td>2008</td>\n",
              "      <td>Individual</td>\n",
              "      <td>1st owner</td>\n",
              "      <td>92233</td>\n",
              "      <td>75000.0</td>\n",
              "    </tr>\n",
              "  </tbody>\n",
              "</table>\n",
              "<p>1061 rows × 7 columns</p>\n",
              "</div>\n",
              "    <div class=\"colab-df-buttons\">\n",
              "\n",
              "  <div class=\"colab-df-container\">\n",
              "    <button class=\"colab-df-convert\" onclick=\"convertToInteractive('df-d5677be4-9e7f-4b11-83f8-cfbfaeb1bf00')\"\n",
              "            title=\"Convert this dataframe to an interactive table.\"\n",
              "            style=\"display:none;\">\n",
              "\n",
              "  <svg xmlns=\"http://www.w3.org/2000/svg\" height=\"24px\" viewBox=\"0 -960 960 960\">\n",
              "    <path d=\"M120-120v-720h720v720H120Zm60-500h600v-160H180v160Zm220 220h160v-160H400v160Zm0 220h160v-160H400v160ZM180-400h160v-160H180v160Zm440 0h160v-160H620v160ZM180-180h160v-160H180v160Zm440 0h160v-160H620v160Z\"/>\n",
              "  </svg>\n",
              "    </button>\n",
              "\n",
              "  <style>\n",
              "    .colab-df-container {\n",
              "      display:flex;\n",
              "      gap: 12px;\n",
              "    }\n",
              "\n",
              "    .colab-df-convert {\n",
              "      background-color: #E8F0FE;\n",
              "      border: none;\n",
              "      border-radius: 50%;\n",
              "      cursor: pointer;\n",
              "      display: none;\n",
              "      fill: #1967D2;\n",
              "      height: 32px;\n",
              "      padding: 0 0 0 0;\n",
              "      width: 32px;\n",
              "    }\n",
              "\n",
              "    .colab-df-convert:hover {\n",
              "      background-color: #E2EBFA;\n",
              "      box-shadow: 0px 1px 2px rgba(60, 64, 67, 0.3), 0px 1px 3px 1px rgba(60, 64, 67, 0.15);\n",
              "      fill: #174EA6;\n",
              "    }\n",
              "\n",
              "    .colab-df-buttons div {\n",
              "      margin-bottom: 4px;\n",
              "    }\n",
              "\n",
              "    [theme=dark] .colab-df-convert {\n",
              "      background-color: #3B4455;\n",
              "      fill: #D2E3FC;\n",
              "    }\n",
              "\n",
              "    [theme=dark] .colab-df-convert:hover {\n",
              "      background-color: #434B5C;\n",
              "      box-shadow: 0px 1px 3px 1px rgba(0, 0, 0, 0.15);\n",
              "      filter: drop-shadow(0px 1px 2px rgba(0, 0, 0, 0.3));\n",
              "      fill: #FFFFFF;\n",
              "    }\n",
              "  </style>\n",
              "\n",
              "    <script>\n",
              "      const buttonEl =\n",
              "        document.querySelector('#df-d5677be4-9e7f-4b11-83f8-cfbfaeb1bf00 button.colab-df-convert');\n",
              "      buttonEl.style.display =\n",
              "        google.colab.kernel.accessAllowed ? 'block' : 'none';\n",
              "\n",
              "      async function convertToInteractive(key) {\n",
              "        const element = document.querySelector('#df-d5677be4-9e7f-4b11-83f8-cfbfaeb1bf00');\n",
              "        const dataTable =\n",
              "          await google.colab.kernel.invokeFunction('convertToInteractive',\n",
              "                                                    [key], {});\n",
              "        if (!dataTable) return;\n",
              "\n",
              "        const docLinkHtml = 'Like what you see? Visit the ' +\n",
              "          '<a target=\"_blank\" href=https://colab.research.google.com/notebooks/data_table.ipynb>data table notebook</a>'\n",
              "          + ' to learn more about interactive tables.';\n",
              "        element.innerHTML = '';\n",
              "        dataTable['output_type'] = 'display_data';\n",
              "        await google.colab.output.renderOutput(dataTable, element);\n",
              "        const docLink = document.createElement('div');\n",
              "        docLink.innerHTML = docLinkHtml;\n",
              "        element.appendChild(docLink);\n",
              "      }\n",
              "    </script>\n",
              "  </div>\n",
              "\n",
              "\n",
              "<div id=\"df-73c07fce-e1e5-403a-9de9-466d1a0d92a3\">\n",
              "  <button class=\"colab-df-quickchart\" onclick=\"quickchart('df-73c07fce-e1e5-403a-9de9-466d1a0d92a3')\"\n",
              "            title=\"Suggest charts\"\n",
              "            style=\"display:none;\">\n",
              "\n",
              "<svg xmlns=\"http://www.w3.org/2000/svg\" height=\"24px\"viewBox=\"0 0 24 24\"\n",
              "     width=\"24px\">\n",
              "    <g>\n",
              "        <path d=\"M19 3H5c-1.1 0-2 .9-2 2v14c0 1.1.9 2 2 2h14c1.1 0 2-.9 2-2V5c0-1.1-.9-2-2-2zM9 17H7v-7h2v7zm4 0h-2V7h2v10zm4 0h-2v-4h2v4z\"/>\n",
              "    </g>\n",
              "</svg>\n",
              "  </button>\n",
              "\n",
              "<style>\n",
              "  .colab-df-quickchart {\n",
              "      --bg-color: #E8F0FE;\n",
              "      --fill-color: #1967D2;\n",
              "      --hover-bg-color: #E2EBFA;\n",
              "      --hover-fill-color: #174EA6;\n",
              "      --disabled-fill-color: #AAA;\n",
              "      --disabled-bg-color: #DDD;\n",
              "  }\n",
              "\n",
              "  [theme=dark] .colab-df-quickchart {\n",
              "      --bg-color: #3B4455;\n",
              "      --fill-color: #D2E3FC;\n",
              "      --hover-bg-color: #434B5C;\n",
              "      --hover-fill-color: #FFFFFF;\n",
              "      --disabled-bg-color: #3B4455;\n",
              "      --disabled-fill-color: #666;\n",
              "  }\n",
              "\n",
              "  .colab-df-quickchart {\n",
              "    background-color: var(--bg-color);\n",
              "    border: none;\n",
              "    border-radius: 50%;\n",
              "    cursor: pointer;\n",
              "    display: none;\n",
              "    fill: var(--fill-color);\n",
              "    height: 32px;\n",
              "    padding: 0;\n",
              "    width: 32px;\n",
              "  }\n",
              "\n",
              "  .colab-df-quickchart:hover {\n",
              "    background-color: var(--hover-bg-color);\n",
              "    box-shadow: 0 1px 2px rgba(60, 64, 67, 0.3), 0 1px 3px 1px rgba(60, 64, 67, 0.15);\n",
              "    fill: var(--button-hover-fill-color);\n",
              "  }\n",
              "\n",
              "  .colab-df-quickchart-complete:disabled,\n",
              "  .colab-df-quickchart-complete:disabled:hover {\n",
              "    background-color: var(--disabled-bg-color);\n",
              "    fill: var(--disabled-fill-color);\n",
              "    box-shadow: none;\n",
              "  }\n",
              "\n",
              "  .colab-df-spinner {\n",
              "    border: 2px solid var(--fill-color);\n",
              "    border-color: transparent;\n",
              "    border-bottom-color: var(--fill-color);\n",
              "    animation:\n",
              "      spin 1s steps(1) infinite;\n",
              "  }\n",
              "\n",
              "  @keyframes spin {\n",
              "    0% {\n",
              "      border-color: transparent;\n",
              "      border-bottom-color: var(--fill-color);\n",
              "      border-left-color: var(--fill-color);\n",
              "    }\n",
              "    20% {\n",
              "      border-color: transparent;\n",
              "      border-left-color: var(--fill-color);\n",
              "      border-top-color: var(--fill-color);\n",
              "    }\n",
              "    30% {\n",
              "      border-color: transparent;\n",
              "      border-left-color: var(--fill-color);\n",
              "      border-top-color: var(--fill-color);\n",
              "      border-right-color: var(--fill-color);\n",
              "    }\n",
              "    40% {\n",
              "      border-color: transparent;\n",
              "      border-right-color: var(--fill-color);\n",
              "      border-top-color: var(--fill-color);\n",
              "    }\n",
              "    60% {\n",
              "      border-color: transparent;\n",
              "      border-right-color: var(--fill-color);\n",
              "    }\n",
              "    80% {\n",
              "      border-color: transparent;\n",
              "      border-right-color: var(--fill-color);\n",
              "      border-bottom-color: var(--fill-color);\n",
              "    }\n",
              "    90% {\n",
              "      border-color: transparent;\n",
              "      border-bottom-color: var(--fill-color);\n",
              "    }\n",
              "  }\n",
              "</style>\n",
              "\n",
              "  <script>\n",
              "    async function quickchart(key) {\n",
              "      const quickchartButtonEl =\n",
              "        document.querySelector('#' + key + ' button');\n",
              "      quickchartButtonEl.disabled = true;  // To prevent multiple clicks.\n",
              "      quickchartButtonEl.classList.add('colab-df-spinner');\n",
              "      try {\n",
              "        const charts = await google.colab.kernel.invokeFunction(\n",
              "            'suggestCharts', [key], {});\n",
              "      } catch (error) {\n",
              "        console.error('Error during call to suggestCharts:', error);\n",
              "      }\n",
              "      quickchartButtonEl.classList.remove('colab-df-spinner');\n",
              "      quickchartButtonEl.classList.add('colab-df-quickchart-complete');\n",
              "    }\n",
              "    (() => {\n",
              "      let quickchartButtonEl =\n",
              "        document.querySelector('#df-73c07fce-e1e5-403a-9de9-466d1a0d92a3 button');\n",
              "      quickchartButtonEl.style.display =\n",
              "        google.colab.kernel.accessAllowed ? 'block' : 'none';\n",
              "    })();\n",
              "  </script>\n",
              "</div>\n",
              "\n",
              "  <div id=\"id_ac92ea84-2f16-4428-9407-3ef38c4b1273\">\n",
              "    <style>\n",
              "      .colab-df-generate {\n",
              "        background-color: #E8F0FE;\n",
              "        border: none;\n",
              "        border-radius: 50%;\n",
              "        cursor: pointer;\n",
              "        display: none;\n",
              "        fill: #1967D2;\n",
              "        height: 32px;\n",
              "        padding: 0 0 0 0;\n",
              "        width: 32px;\n",
              "      }\n",
              "\n",
              "      .colab-df-generate:hover {\n",
              "        background-color: #E2EBFA;\n",
              "        box-shadow: 0px 1px 2px rgba(60, 64, 67, 0.3), 0px 1px 3px 1px rgba(60, 64, 67, 0.15);\n",
              "        fill: #174EA6;\n",
              "      }\n",
              "\n",
              "      [theme=dark] .colab-df-generate {\n",
              "        background-color: #3B4455;\n",
              "        fill: #D2E3FC;\n",
              "      }\n",
              "\n",
              "      [theme=dark] .colab-df-generate:hover {\n",
              "        background-color: #434B5C;\n",
              "        box-shadow: 0px 1px 3px 1px rgba(0, 0, 0, 0.15);\n",
              "        filter: drop-shadow(0px 1px 2px rgba(0, 0, 0, 0.3));\n",
              "        fill: #FFFFFF;\n",
              "      }\n",
              "    </style>\n",
              "    <button class=\"colab-df-generate\" onclick=\"generateWithVariable('df')\"\n",
              "            title=\"Generate code using this dataframe.\"\n",
              "            style=\"display:none;\">\n",
              "\n",
              "  <svg xmlns=\"http://www.w3.org/2000/svg\" height=\"24px\"viewBox=\"0 0 24 24\"\n",
              "       width=\"24px\">\n",
              "    <path d=\"M7,19H8.4L18.45,9,17,7.55,7,17.6ZM5,21V16.75L18.45,3.32a2,2,0,0,1,2.83,0l1.4,1.43a1.91,1.91,0,0,1,.58,1.4,1.91,1.91,0,0,1-.58,1.4L9.25,21ZM18.45,9,17,7.55Zm-12,3A5.31,5.31,0,0,0,4.9,8.1,5.31,5.31,0,0,0,1,6.5,5.31,5.31,0,0,0,4.9,4.9,5.31,5.31,0,0,0,6.5,1,5.31,5.31,0,0,0,8.1,4.9,5.31,5.31,0,0,0,12,6.5,5.46,5.46,0,0,0,6.5,12Z\"/>\n",
              "  </svg>\n",
              "    </button>\n",
              "    <script>\n",
              "      (() => {\n",
              "      const buttonEl =\n",
              "        document.querySelector('#id_ac92ea84-2f16-4428-9407-3ef38c4b1273 button.colab-df-generate');\n",
              "      buttonEl.style.display =\n",
              "        google.colab.kernel.accessAllowed ? 'block' : 'none';\n",
              "\n",
              "      buttonEl.onclick = () => {\n",
              "        google.colab.notebook.generateWithVariable('df');\n",
              "      }\n",
              "      })();\n",
              "    </script>\n",
              "  </div>\n",
              "\n",
              "    </div>\n",
              "  </div>\n"
            ],
            "application/vnd.google.colaboratory.intrinsic+json": {
              "type": "dataframe",
              "variable_name": "df",
              "summary": "{\n  \"name\": \"df\",\n  \"rows\": 1061,\n  \"fields\": [\n    {\n      \"column\": \"name\",\n      \"properties\": {\n        \"dtype\": \"category\",\n        \"num_unique_values\": 279,\n        \"samples\": [\n          \"Hero Xtreme Sports\",\n          \"Hero Honda Passion\",\n          \"TVS Streak\"\n        ],\n        \"semantic_type\": \"\",\n        \"description\": \"\"\n      }\n    },\n    {\n      \"column\": \"selling_price\",\n      \"properties\": {\n        \"dtype\": \"number\",\n        \"std\": 56304,\n        \"min\": 5000,\n        \"max\": 760000,\n        \"num_unique_values\": 130,\n        \"samples\": [\n          72000,\n          160000,\n          26000\n        ],\n        \"semantic_type\": \"\",\n        \"description\": \"\"\n      }\n    },\n    {\n      \"column\": \"year\",\n      \"properties\": {\n        \"dtype\": \"number\",\n        \"std\": 4,\n        \"min\": 1988,\n        \"max\": 2020,\n        \"num_unique_values\": 28,\n        \"samples\": [\n          2012,\n          2003,\n          2020\n        ],\n        \"semantic_type\": \"\",\n        \"description\": \"\"\n      }\n    },\n    {\n      \"column\": \"seller_type\",\n      \"properties\": {\n        \"dtype\": \"category\",\n        \"num_unique_values\": 2,\n        \"samples\": [\n          \"Dealer\",\n          \"Individual\"\n        ],\n        \"semantic_type\": \"\",\n        \"description\": \"\"\n      }\n    },\n    {\n      \"column\": \"owner\",\n      \"properties\": {\n        \"dtype\": \"category\",\n        \"num_unique_values\": 4,\n        \"samples\": [\n          \"2nd owner\",\n          \"4th owner\"\n        ],\n        \"semantic_type\": \"\",\n        \"description\": \"\"\n      }\n    },\n    {\n      \"column\": \"km_driven\",\n      \"properties\": {\n        \"dtype\": \"number\",\n        \"std\": 51623,\n        \"min\": 350,\n        \"max\": 880000,\n        \"num_unique_values\": 304,\n        \"samples\": [\n          19500,\n          11500\n        ],\n        \"semantic_type\": \"\",\n        \"description\": \"\"\n      }\n    },\n    {\n      \"column\": \"ex_showroom_price\",\n      \"properties\": {\n        \"dtype\": \"number\",\n        \"std\": 77496.58718945317,\n        \"min\": 30490.0,\n        \"max\": 1278000.0,\n        \"num_unique_values\": 230,\n        \"samples\": [\n          54000.0,\n          64589.0\n        ],\n        \"semantic_type\": \"\",\n        \"description\": \"\"\n      }\n    }\n  ]\n}"
            }
          },
          "metadata": {},
          "execution_count": 3
        }
      ]
    },
    {
      "cell_type": "markdown",
      "source": [
        "Q1 What is the range of selling prices in the dataset?"
      ],
      "metadata": {
        "id": "jSkmxNcM2ed1"
      }
    },
    {
      "cell_type": "code",
      "source": [
        "min_selling_price = df[\"selling_price\"].min()\n",
        "max_selling_price= df[\"selling_price\"].max()\n",
        "print(f\"The range between minimum and maximum selling price is Rs{min_selling_price} to Rs{max_selling_price}\")"
      ],
      "metadata": {
        "colab": {
          "base_uri": "https://localhost:8080/"
        },
        "id": "LrJOd2qL2ikQ",
        "outputId": "63dab50c-765d-43d9-d963-332515d69fa3"
      },
      "execution_count": 4,
      "outputs": [
        {
          "output_type": "stream",
          "name": "stdout",
          "text": [
            "The range between minimum and maximum selling price is Rs5000 to Rs760000\n"
          ]
        }
      ]
    },
    {
      "cell_type": "markdown",
      "source": [
        "Q2 What is the median selling price for bikes in the dataset?"
      ],
      "metadata": {
        "id": "BYW5p2u_24WS"
      }
    },
    {
      "cell_type": "code",
      "source": [
        "median_selling_price = df[\"selling_price\"].median()\n",
        "print(f\"the median selling price for bikes in the dataset is Rs{median_selling_price}\")"
      ],
      "metadata": {
        "colab": {
          "base_uri": "https://localhost:8080/"
        },
        "id": "5AAFEYlu2pMY",
        "outputId": "0669bace-21eb-4cfa-d637-51d79d2e9ec1"
      },
      "execution_count": 5,
      "outputs": [
        {
          "output_type": "stream",
          "name": "stdout",
          "text": [
            "the median selling price for bikes in the dataset is Rs45000.0\n"
          ]
        }
      ]
    },
    {
      "cell_type": "markdown",
      "source": [
        "Q3 What is the most common seller type?"
      ],
      "metadata": {
        "id": "C-BilHXm3C6U"
      }
    },
    {
      "cell_type": "code",
      "source": [
        "common_seller = df.loc[:,\"seller_type\"].value_counts()\n",
        "print(common_seller)"
      ],
      "metadata": {
        "colab": {
          "base_uri": "https://localhost:8080/"
        },
        "id": "Xbo5Dy8u2_SE",
        "outputId": "cff81063-359d-4fc9-9474-24561dc18d73"
      },
      "execution_count": 6,
      "outputs": [
        {
          "output_type": "stream",
          "name": "stdout",
          "text": [
            "seller_type\n",
            "Individual    1055\n",
            "Dealer           6\n",
            "Name: count, dtype: int64\n"
          ]
        }
      ]
    },
    {
      "cell_type": "markdown",
      "source": [
        "Q4 How many bikes have driven more than 50,000 kilometers?"
      ],
      "metadata": {
        "id": "XsMbGIlr3LSJ"
      }
    },
    {
      "cell_type": "code",
      "source": [
        "filt = df.loc[:,\"km_driven\"] > 50000\n",
        "fiftyk_driven_bikes = df.loc[filt].value_counts()\n",
        "fiftyk_driven_bikes.shape[0]"
      ],
      "metadata": {
        "colab": {
          "base_uri": "https://localhost:8080/"
        },
        "id": "TSNhBAzZ3KFy",
        "outputId": "da63ea3e-ee8f-4250-c7c0-b2c12697028b"
      },
      "execution_count": 7,
      "outputs": [
        {
          "output_type": "execute_result",
          "data": {
            "text/plain": [
              "86"
            ]
          },
          "metadata": {},
          "execution_count": 7
        }
      ]
    },
    {
      "cell_type": "markdown",
      "source": [
        "Q5 What is the average km_driven value for each ownership type?"
      ],
      "metadata": {
        "id": "8dvqFIog3XPC"
      }
    },
    {
      "cell_type": "code",
      "source": [
        "average_km_owner = df.groupby(\"owner\")[\"km_driven\"].mean()\n",
        "print(average_km_owner)"
      ],
      "metadata": {
        "colab": {
          "base_uri": "https://localhost:8080/"
        },
        "id": "fEb90IXV3Vcm",
        "outputId": "48203213-3d97-48ef-90c3-c5464e57cb93"
      },
      "execution_count": 8,
      "outputs": [
        {
          "output_type": "stream",
          "name": "stdout",
          "text": [
            "owner\n",
            "1st owner     32816.583333\n",
            "2nd owner     39288.991870\n",
            "3rd owner     33292.181818\n",
            "4th owner    311500.000000\n",
            "Name: km_driven, dtype: float64\n"
          ]
        }
      ]
    },
    {
      "cell_type": "markdown",
      "source": [
        "Q6 What proportion of bikes are from the year 2015 or older?"
      ],
      "metadata": {
        "id": "9gU7bv7m3jk5"
      }
    },
    {
      "cell_type": "code",
      "source": [
        "filt = df[\"year\"]<= 2015\n",
        "proportion = len(filt)/len(df)\n",
        "print(f\"The proportion of bikes from the year 2015 or older is: {proportion}\")"
      ],
      "metadata": {
        "colab": {
          "base_uri": "https://localhost:8080/"
        },
        "id": "DpU4nyng3gEp",
        "outputId": "284574fa-75da-44cc-fee2-cb5a4825929d"
      },
      "execution_count": 9,
      "outputs": [
        {
          "output_type": "stream",
          "name": "stdout",
          "text": [
            "The proportion of bikes from the year 2015 or older is: 1.0\n"
          ]
        }
      ]
    },
    {
      "cell_type": "markdown",
      "source": [
        "Q7 What is the trend of missing values across the dataset?"
      ],
      "metadata": {
        "id": "eA3K-DXz3ruY"
      }
    },
    {
      "cell_type": "code",
      "source": [
        "missing_values = df.isnull().sum()\n",
        "\n",
        "print(missing_values)"
      ],
      "metadata": {
        "colab": {
          "base_uri": "https://localhost:8080/"
        },
        "id": "BnIgu2oF3p3v",
        "outputId": "6587739a-8465-4673-a326-eefa418f7542"
      },
      "execution_count": 10,
      "outputs": [
        {
          "output_type": "stream",
          "name": "stdout",
          "text": [
            "name                   0\n",
            "selling_price          0\n",
            "year                   0\n",
            "seller_type            0\n",
            "owner                  0\n",
            "km_driven              0\n",
            "ex_showroom_price    435\n",
            "dtype: int64\n"
          ]
        }
      ]
    },
    {
      "cell_type": "markdown",
      "source": [
        "Q8 What is the highest ex_showroom_price recorded, and for which bike?"
      ],
      "metadata": {
        "id": "QHv47kCa30ii"
      }
    },
    {
      "cell_type": "code",
      "source": [
        "filt = df[\"ex_showroom_price\"] == df[\"ex_showroom_price\"].max()\n",
        "highest_price_bike = df.loc[filt]\n",
        "highest_price_bike"
      ],
      "metadata": {
        "colab": {
          "base_uri": "https://localhost:8080/",
          "height": 89
        },
        "id": "oLDFYarc3zZr",
        "outputId": "c548eb74-9e7a-4a9c-ca47-7a7356c38aef"
      },
      "execution_count": 11,
      "outputs": [
        {
          "output_type": "execute_result",
          "data": {
            "text/plain": [
              "                           name  selling_price  year seller_type      owner  \\\n",
              "134  Harley-Davidson Street Bob         750000  2013  Individual  2nd owner   \n",
              "\n",
              "     km_driven  ex_showroom_price  \n",
              "134      12000          1278000.0  "
            ],
            "text/html": [
              "\n",
              "  <div id=\"df-e462079e-fdcb-4512-91bb-80beef1a0bdd\" class=\"colab-df-container\">\n",
              "    <div>\n",
              "<style scoped>\n",
              "    .dataframe tbody tr th:only-of-type {\n",
              "        vertical-align: middle;\n",
              "    }\n",
              "\n",
              "    .dataframe tbody tr th {\n",
              "        vertical-align: top;\n",
              "    }\n",
              "\n",
              "    .dataframe thead th {\n",
              "        text-align: right;\n",
              "    }\n",
              "</style>\n",
              "<table border=\"1\" class=\"dataframe\">\n",
              "  <thead>\n",
              "    <tr style=\"text-align: right;\">\n",
              "      <th></th>\n",
              "      <th>name</th>\n",
              "      <th>selling_price</th>\n",
              "      <th>year</th>\n",
              "      <th>seller_type</th>\n",
              "      <th>owner</th>\n",
              "      <th>km_driven</th>\n",
              "      <th>ex_showroom_price</th>\n",
              "    </tr>\n",
              "  </thead>\n",
              "  <tbody>\n",
              "    <tr>\n",
              "      <th>134</th>\n",
              "      <td>Harley-Davidson Street Bob</td>\n",
              "      <td>750000</td>\n",
              "      <td>2013</td>\n",
              "      <td>Individual</td>\n",
              "      <td>2nd owner</td>\n",
              "      <td>12000</td>\n",
              "      <td>1278000.0</td>\n",
              "    </tr>\n",
              "  </tbody>\n",
              "</table>\n",
              "</div>\n",
              "    <div class=\"colab-df-buttons\">\n",
              "\n",
              "  <div class=\"colab-df-container\">\n",
              "    <button class=\"colab-df-convert\" onclick=\"convertToInteractive('df-e462079e-fdcb-4512-91bb-80beef1a0bdd')\"\n",
              "            title=\"Convert this dataframe to an interactive table.\"\n",
              "            style=\"display:none;\">\n",
              "\n",
              "  <svg xmlns=\"http://www.w3.org/2000/svg\" height=\"24px\" viewBox=\"0 -960 960 960\">\n",
              "    <path d=\"M120-120v-720h720v720H120Zm60-500h600v-160H180v160Zm220 220h160v-160H400v160Zm0 220h160v-160H400v160ZM180-400h160v-160H180v160Zm440 0h160v-160H620v160ZM180-180h160v-160H180v160Zm440 0h160v-160H620v160Z\"/>\n",
              "  </svg>\n",
              "    </button>\n",
              "\n",
              "  <style>\n",
              "    .colab-df-container {\n",
              "      display:flex;\n",
              "      gap: 12px;\n",
              "    }\n",
              "\n",
              "    .colab-df-convert {\n",
              "      background-color: #E8F0FE;\n",
              "      border: none;\n",
              "      border-radius: 50%;\n",
              "      cursor: pointer;\n",
              "      display: none;\n",
              "      fill: #1967D2;\n",
              "      height: 32px;\n",
              "      padding: 0 0 0 0;\n",
              "      width: 32px;\n",
              "    }\n",
              "\n",
              "    .colab-df-convert:hover {\n",
              "      background-color: #E2EBFA;\n",
              "      box-shadow: 0px 1px 2px rgba(60, 64, 67, 0.3), 0px 1px 3px 1px rgba(60, 64, 67, 0.15);\n",
              "      fill: #174EA6;\n",
              "    }\n",
              "\n",
              "    .colab-df-buttons div {\n",
              "      margin-bottom: 4px;\n",
              "    }\n",
              "\n",
              "    [theme=dark] .colab-df-convert {\n",
              "      background-color: #3B4455;\n",
              "      fill: #D2E3FC;\n",
              "    }\n",
              "\n",
              "    [theme=dark] .colab-df-convert:hover {\n",
              "      background-color: #434B5C;\n",
              "      box-shadow: 0px 1px 3px 1px rgba(0, 0, 0, 0.15);\n",
              "      filter: drop-shadow(0px 1px 2px rgba(0, 0, 0, 0.3));\n",
              "      fill: #FFFFFF;\n",
              "    }\n",
              "  </style>\n",
              "\n",
              "    <script>\n",
              "      const buttonEl =\n",
              "        document.querySelector('#df-e462079e-fdcb-4512-91bb-80beef1a0bdd button.colab-df-convert');\n",
              "      buttonEl.style.display =\n",
              "        google.colab.kernel.accessAllowed ? 'block' : 'none';\n",
              "\n",
              "      async function convertToInteractive(key) {\n",
              "        const element = document.querySelector('#df-e462079e-fdcb-4512-91bb-80beef1a0bdd');\n",
              "        const dataTable =\n",
              "          await google.colab.kernel.invokeFunction('convertToInteractive',\n",
              "                                                    [key], {});\n",
              "        if (!dataTable) return;\n",
              "\n",
              "        const docLinkHtml = 'Like what you see? Visit the ' +\n",
              "          '<a target=\"_blank\" href=https://colab.research.google.com/notebooks/data_table.ipynb>data table notebook</a>'\n",
              "          + ' to learn more about interactive tables.';\n",
              "        element.innerHTML = '';\n",
              "        dataTable['output_type'] = 'display_data';\n",
              "        await google.colab.output.renderOutput(dataTable, element);\n",
              "        const docLink = document.createElement('div');\n",
              "        docLink.innerHTML = docLinkHtml;\n",
              "        element.appendChild(docLink);\n",
              "      }\n",
              "    </script>\n",
              "  </div>\n",
              "\n",
              "\n",
              "  <div id=\"id_fa9887f6-d19d-4200-bb04-ae1de0e70f1b\">\n",
              "    <style>\n",
              "      .colab-df-generate {\n",
              "        background-color: #E8F0FE;\n",
              "        border: none;\n",
              "        border-radius: 50%;\n",
              "        cursor: pointer;\n",
              "        display: none;\n",
              "        fill: #1967D2;\n",
              "        height: 32px;\n",
              "        padding: 0 0 0 0;\n",
              "        width: 32px;\n",
              "      }\n",
              "\n",
              "      .colab-df-generate:hover {\n",
              "        background-color: #E2EBFA;\n",
              "        box-shadow: 0px 1px 2px rgba(60, 64, 67, 0.3), 0px 1px 3px 1px rgba(60, 64, 67, 0.15);\n",
              "        fill: #174EA6;\n",
              "      }\n",
              "\n",
              "      [theme=dark] .colab-df-generate {\n",
              "        background-color: #3B4455;\n",
              "        fill: #D2E3FC;\n",
              "      }\n",
              "\n",
              "      [theme=dark] .colab-df-generate:hover {\n",
              "        background-color: #434B5C;\n",
              "        box-shadow: 0px 1px 3px 1px rgba(0, 0, 0, 0.15);\n",
              "        filter: drop-shadow(0px 1px 2px rgba(0, 0, 0, 0.3));\n",
              "        fill: #FFFFFF;\n",
              "      }\n",
              "    </style>\n",
              "    <button class=\"colab-df-generate\" onclick=\"generateWithVariable('highest_price_bike')\"\n",
              "            title=\"Generate code using this dataframe.\"\n",
              "            style=\"display:none;\">\n",
              "\n",
              "  <svg xmlns=\"http://www.w3.org/2000/svg\" height=\"24px\"viewBox=\"0 0 24 24\"\n",
              "       width=\"24px\">\n",
              "    <path d=\"M7,19H8.4L18.45,9,17,7.55,7,17.6ZM5,21V16.75L18.45,3.32a2,2,0,0,1,2.83,0l1.4,1.43a1.91,1.91,0,0,1,.58,1.4,1.91,1.91,0,0,1-.58,1.4L9.25,21ZM18.45,9,17,7.55Zm-12,3A5.31,5.31,0,0,0,4.9,8.1,5.31,5.31,0,0,0,1,6.5,5.31,5.31,0,0,0,4.9,4.9,5.31,5.31,0,0,0,6.5,1,5.31,5.31,0,0,0,8.1,4.9,5.31,5.31,0,0,0,12,6.5,5.46,5.46,0,0,0,6.5,12Z\"/>\n",
              "  </svg>\n",
              "    </button>\n",
              "    <script>\n",
              "      (() => {\n",
              "      const buttonEl =\n",
              "        document.querySelector('#id_fa9887f6-d19d-4200-bb04-ae1de0e70f1b button.colab-df-generate');\n",
              "      buttonEl.style.display =\n",
              "        google.colab.kernel.accessAllowed ? 'block' : 'none';\n",
              "\n",
              "      buttonEl.onclick = () => {\n",
              "        google.colab.notebook.generateWithVariable('highest_price_bike');\n",
              "      }\n",
              "      })();\n",
              "    </script>\n",
              "  </div>\n",
              "\n",
              "    </div>\n",
              "  </div>\n"
            ],
            "application/vnd.google.colaboratory.intrinsic+json": {
              "type": "dataframe",
              "variable_name": "highest_price_bike",
              "summary": "{\n  \"name\": \"highest_price_bike\",\n  \"rows\": 1,\n  \"fields\": [\n    {\n      \"column\": \"name\",\n      \"properties\": {\n        \"dtype\": \"string\",\n        \"num_unique_values\": 1,\n        \"samples\": [\n          \"Harley-Davidson Street Bob\"\n        ],\n        \"semantic_type\": \"\",\n        \"description\": \"\"\n      }\n    },\n    {\n      \"column\": \"selling_price\",\n      \"properties\": {\n        \"dtype\": \"number\",\n        \"std\": null,\n        \"min\": 750000,\n        \"max\": 750000,\n        \"num_unique_values\": 1,\n        \"samples\": [\n          750000\n        ],\n        \"semantic_type\": \"\",\n        \"description\": \"\"\n      }\n    },\n    {\n      \"column\": \"year\",\n      \"properties\": {\n        \"dtype\": \"number\",\n        \"std\": null,\n        \"min\": 2013,\n        \"max\": 2013,\n        \"num_unique_values\": 1,\n        \"samples\": [\n          2013\n        ],\n        \"semantic_type\": \"\",\n        \"description\": \"\"\n      }\n    },\n    {\n      \"column\": \"seller_type\",\n      \"properties\": {\n        \"dtype\": \"string\",\n        \"num_unique_values\": 1,\n        \"samples\": [\n          \"Individual\"\n        ],\n        \"semantic_type\": \"\",\n        \"description\": \"\"\n      }\n    },\n    {\n      \"column\": \"owner\",\n      \"properties\": {\n        \"dtype\": \"string\",\n        \"num_unique_values\": 1,\n        \"samples\": [\n          \"2nd owner\"\n        ],\n        \"semantic_type\": \"\",\n        \"description\": \"\"\n      }\n    },\n    {\n      \"column\": \"km_driven\",\n      \"properties\": {\n        \"dtype\": \"number\",\n        \"std\": null,\n        \"min\": 12000,\n        \"max\": 12000,\n        \"num_unique_values\": 1,\n        \"samples\": [\n          12000\n        ],\n        \"semantic_type\": \"\",\n        \"description\": \"\"\n      }\n    },\n    {\n      \"column\": \"ex_showroom_price\",\n      \"properties\": {\n        \"dtype\": \"number\",\n        \"std\": null,\n        \"min\": 1278000.0,\n        \"max\": 1278000.0,\n        \"num_unique_values\": 1,\n        \"samples\": [\n          1278000.0\n        ],\n        \"semantic_type\": \"\",\n        \"description\": \"\"\n      }\n    }\n  ]\n}"
            }
          },
          "metadata": {},
          "execution_count": 11
        }
      ]
    },
    {
      "cell_type": "markdown",
      "source": [
        "Q9 What is the total number of bikes listed by each seller type?"
      ],
      "metadata": {
        "id": "XmlrRKlC4EjB"
      }
    },
    {
      "cell_type": "code",
      "source": [
        "total_bikes = df.loc[:,\"seller_type\"].value_counts()\n",
        "print(total_bikes)"
      ],
      "metadata": {
        "colab": {
          "base_uri": "https://localhost:8080/"
        },
        "id": "71nKrle-4DJ_",
        "outputId": "ba0d812d-057e-47a8-9833-200de825dd8f"
      },
      "execution_count": 12,
      "outputs": [
        {
          "output_type": "stream",
          "name": "stdout",
          "text": [
            "seller_type\n",
            "Individual    1055\n",
            "Dealer           6\n",
            "Name: count, dtype: int64\n"
          ]
        }
      ]
    },
    {
      "cell_type": "markdown",
      "source": [
        "Q10 What is the relationship between selling_price and km_driven for first-owner bikes?"
      ],
      "metadata": {
        "id": "2670loAt4Mm7"
      }
    },
    {
      "cell_type": "code",
      "source": [
        "filt = df[\"owner\"] == \"1st owner\"\n",
        "selling_prices = df.loc[filt,\"selling_price\"]\n",
        "km_driven = df.loc[filt,\"km_driven\"]\n",
        "\n",
        "# Create a scatter plot\n",
        "plt.figure(figsize=(10, 6))\n",
        "plt.scatter(km_driven, selling_prices, alpha=0.5)\n",
        "plt.title('Relationship between Selling Price and KM Driven for First-Owner Bikes')\n",
        "plt.xlabel('KM Driven')\n",
        "plt.ylabel('Selling Price')\n",
        "plt.grid(True)\n",
        "plt.show()\n",
        "\n",
        "# Calculate the correlation coefficient\n",
        "correlation = selling_prices.corr(km_driven)\n",
        "print(f\"The correlation coefficient between selling price and km driven for first-owner bikes is: {correlation:.2f}\")"
      ],
      "metadata": {
        "colab": {
          "base_uri": "https://localhost:8080/",
          "height": 581
        },
        "id": "1rlSJJki4LiO",
        "outputId": "f2047440-cbb9-4dff-9892-22d1f54c7da9"
      },
      "execution_count": 13,
      "outputs": [
        {
          "output_type": "display_data",
          "data": {
            "text/plain": [
              "<Figure size 1000x600 with 1 Axes>"
            ],
            "image/png": "[encoded data removed]"
          },
          "metadata": {}
        },
        {
          "output_type": "stream",
          "name": "stdout",
          "text": [
            "The correlation coefficient between selling price and km driven for first-owner bikes is: -0.24\n"
          ]
        }
      ]
    },
    {
      "cell_type": "markdown",
      "source": [
        "Q11  Identify and remove outliers in the km_driven column using the IQR method?"
      ],
      "metadata": {
        "id": "mKElRdcU5aXg"
      }
    },
    {
      "cell_type": "code",
      "source": [
        "# Calculate Q1 (25th percentile) and Q3 (75th percentile)\n",
        "filt = df[\"km_driven\"]\n",
        "Q1 = filt.quantile(0.25)\n",
        "Q3 = filt.quantile(0.75)\n",
        "# Calculate the IQR\n",
        "IQR = Q3 - Q1\n",
        "# lower and upper bound\n",
        "\n",
        "lower_bound = Q1 - 1.5 * IQR\n",
        "upper_bound = Q3 + 1.5 * IQR\n",
        "\n",
        "# Identify outliers\n",
        "\n",
        "outliers = df[(filt < lower_bound) | (filt> upper_bound)]\n",
        "\n",
        "# Remove outliers\n",
        "df_cleaned = df[(filt>= lower_bound) & (filt<= upper_bound)]\n",
        "\n",
        "print(f\"Number of outliers: {len(outliers)}\")\n",
        "print(f\"Number of rows after removing outliers: {len(df_cleaned)}\")"
      ],
      "metadata": {
        "colab": {
          "base_uri": "https://localhost:8080/"
        },
        "id": "-G3y6hC64aPH",
        "outputId": "5f1042ff-b581-4bb1-ad98-0b5000c7aff0"
      },
      "execution_count": 14,
      "outputs": [
        {
          "output_type": "stream",
          "name": "stdout",
          "text": [
            "Number of outliers: 39\n",
            "Number of rows after removing outliers: 1022\n"
          ]
        }
      ]
    },
    {
      "cell_type": "markdown",
      "source": [
        "Q12 Perform a bivariate analysis to visualize the relationship between year and selling_price?"
      ],
      "metadata": {
        "id": "vUxufOw95m2Z"
      }
    },
    {
      "cell_type": "code",
      "source": [
        "x_year = df[\"year\"]\n",
        "y_selling_price = df[\"selling_price\"]\n",
        "\n",
        "plt.figure(figsize =(10,6))\n",
        "plt.scatter(x_year,y_selling_price,alpha = 0.5,)\n",
        "plt.xlabel(\"Years\")\n",
        "plt.ylabel(\"Selling Prices\")\n",
        "plt.title(\"relationship between year and selling_price\")\n",
        "plt.grid()\n",
        "plt.show()"
      ],
      "metadata": {
        "colab": {
          "base_uri": "https://localhost:8080/",
          "height": 564
        },
        "id": "mm-4MFF-5lbq",
        "outputId": "fffd7aec-2252-4710-a3d2-2a8e54f0eea4"
      },
      "execution_count": 15,
      "outputs": [
        {
          "output_type": "display_data",
          "data": {
            "text/plain": [
              "<Figure size 1000x600 with 1 Axes>"
            ],
            "image/png": "[encoded data removed]"
          },
          "metadata": {}
        }
      ]
    },
    {
      "cell_type": "markdown",
      "source": [
        "Q13  What is the average depreciation in selling price based on the bike's age (current year - manufacturing\n",
        "year)?"
      ],
      "metadata": {
        "id": "VRv8o8Ox6ABg"
      }
    },
    {
      "cell_type": "code",
      "source": [
        "# Define the current year\n",
        "current_year = 2024\n",
        "\n",
        "# Calculate the bike's age\n",
        "df['age'] = current_year - df['year']\n",
        "\n",
        "# Calculate the depreciation for each bike\n",
        "df['depreciation'] = df['selling_price'] / df['age']\n",
        "\n",
        "# Calculate the average depreciation\n",
        "average_depreciation = df['depreciation'].mean()\n",
        "\n",
        "print(f\"The average depreciation in selling price based on the bike's age is: {average_depreciation:.2f}\")"
      ],
      "metadata": {
        "colab": {
          "base_uri": "https://localhost:8080/"
        },
        "id": "YnbIVg7t58S1",
        "outputId": "d106a7e8-a146-4c8b-89a7-0c573a2c886b"
      },
      "execution_count": 16,
      "outputs": [
        {
          "output_type": "stream",
          "name": "stdout",
          "text": [
            "The average depreciation in selling price based on the bike's age is: 8036.51\n"
          ]
        }
      ]
    },
    {
      "cell_type": "code",
      "source": [
        "df.head(10).value_counts()"
      ],
      "metadata": {
        "colab": {
          "base_uri": "https://localhost:8080/",
          "height": 272
        },
        "id": "iZZod0Sw6W1H",
        "outputId": "c9ea2d63-90a7-49bc-a4d4-6b434f6ffe01"
      },
      "execution_count": 17,
      "outputs": [
        {
          "output_type": "execute_result",
          "data": {
            "text/plain": [
              "name                                 selling_price  year  seller_type  owner      km_driven  ex_showroom_price  age  depreciation\n",
              "Bajaj Discover 125                   50000          2016  Individual   1st owner  42000      60122.0            8    6250.000000     1\n",
              "Honda CB Hornet 160R                 78500          2018  Individual   1st owner  17000      87719.0            6    13083.333333    1\n",
              "Honda CB Twister                     18000          2010  Individual   1st owner  60000      53857.0            14   1285.714286     1\n",
              "Royal Enfield Classic Gunmetal Grey  150000         2018  Individual   1st owner  12000      148114.0           6    25000.000000    1\n",
              "Yamaha Fazer FI V 2.0 [2016-2018]    65000          2015  Individual   1st owner  23000      89643.0            9    7222.222222     1\n",
              "Name: count, dtype: int64"
            ],
            "text/html": [
              "<div>\n",
              "<style scoped>\n",
              "    .dataframe tbody tr th:only-of-type {\n",
              "        vertical-align: middle;\n",
              "    }\n",
              "\n",
              "    .dataframe tbody tr th {\n",
              "        vertical-align: top;\n",
              "    }\n",
              "\n",
              "    .dataframe thead th {\n",
              "        text-align: right;\n",
              "    }\n",
              "</style>\n",
              "<table border=\"1\" class=\"dataframe\">\n",
              "  <thead>\n",
              "    <tr style=\"text-align: right;\">\n",
              "      <th></th>\n",
              "      <th></th>\n",
              "      <th></th>\n",
              "      <th></th>\n",
              "      <th></th>\n",
              "      <th></th>\n",
              "      <th></th>\n",
              "      <th></th>\n",
              "      <th></th>\n",
              "      <th>count</th>\n",
              "    </tr>\n",
              "    <tr>\n",
              "      <th>name</th>\n",
              "      <th>selling_price</th>\n",
              "      <th>year</th>\n",
              "      <th>seller_type</th>\n",
              "      <th>owner</th>\n",
              "      <th>km_driven</th>\n",
              "      <th>ex_showroom_price</th>\n",
              "      <th>age</th>\n",
              "      <th>depreciation</th>\n",
              "      <th></th>\n",
              "    </tr>\n",
              "  </thead>\n",
              "  <tbody>\n",
              "    <tr>\n",
              "      <th>Bajaj Discover 125</th>\n",
              "      <th>50000</th>\n",
              "      <th>2016</th>\n",
              "      <th>Individual</th>\n",
              "      <th>1st owner</th>\n",
              "      <th>42000</th>\n",
              "      <th>60122.0</th>\n",
              "      <th>8</th>\n",
              "      <th>6250.000000</th>\n",
              "      <td>1</td>\n",
              "    </tr>\n",
              "    <tr>\n",
              "      <th>Honda CB Hornet 160R</th>\n",
              "      <th>78500</th>\n",
              "      <th>2018</th>\n",
              "      <th>Individual</th>\n",
              "      <th>1st owner</th>\n",
              "      <th>17000</th>\n",
              "      <th>87719.0</th>\n",
              "      <th>6</th>\n",
              "      <th>13083.333333</th>\n",
              "      <td>1</td>\n",
              "    </tr>\n",
              "    <tr>\n",
              "      <th>Honda CB Twister</th>\n",
              "      <th>18000</th>\n",
              "      <th>2010</th>\n",
              "      <th>Individual</th>\n",
              "      <th>1st owner</th>\n",
              "      <th>60000</th>\n",
              "      <th>53857.0</th>\n",
              "      <th>14</th>\n",
              "      <th>1285.714286</th>\n",
              "      <td>1</td>\n",
              "    </tr>\n",
              "    <tr>\n",
              "      <th>Royal Enfield Classic Gunmetal Grey</th>\n",
              "      <th>150000</th>\n",
              "      <th>2018</th>\n",
              "      <th>Individual</th>\n",
              "      <th>1st owner</th>\n",
              "      <th>12000</th>\n",
              "      <th>148114.0</th>\n",
              "      <th>6</th>\n",
              "      <th>25000.000000</th>\n",
              "      <td>1</td>\n",
              "    </tr>\n",
              "    <tr>\n",
              "      <th>Yamaha Fazer FI V 2.0 [2016-2018]</th>\n",
              "      <th>65000</th>\n",
              "      <th>2015</th>\n",
              "      <th>Individual</th>\n",
              "      <th>1st owner</th>\n",
              "      <th>23000</th>\n",
              "      <th>89643.0</th>\n",
              "      <th>9</th>\n",
              "      <th>7222.222222</th>\n",
              "      <td>1</td>\n",
              "    </tr>\n",
              "  </tbody>\n",
              "</table>\n",
              "</div><br><label><b>dtype:</b> int64</label>"
            ]
          },
          "metadata": {},
          "execution_count": 17
        }
      ]
    },
    {
      "cell_type": "markdown",
      "source": [
        "Q14 Which bike names are priced significantly above the average price for their manufacturing year?"
      ],
      "metadata": {
        "id": "cqIhEv0c6K1y"
      }
    },
    {
      "cell_type": "code",
      "source": [
        "# Calculate the average selling price for each year\n",
        "average_price_by_year = df.groupby('year')['selling_price'].mean()\n",
        "\n",
        "# Merge the average price back to the original DataFrame\n",
        "df = df.merge(average_price_by_year, on='year', suffixes=('', '_avg'))\n",
        "\n",
        "# Define a threshold for \"significantly above average\" (e.g., 1.5 times the average price)\n",
        "threshold = 1.5\n",
        "\n",
        "# Identify bikes priced significantly above the average price for their manufacturing year\n",
        "significantly_above_avg = df[df['selling_price'] > threshold * df['selling_price_avg']]\n",
        "\n",
        "# Get the names of these bikes\n",
        "bike_names_above_avg = significantly_above_avg['name']\n",
        "\n",
        "print(bike_names_above_avg)"
      ],
      "metadata": {
        "colab": {
          "base_uri": "https://localhost:8080/"
        },
        "id": "AVt1G8Uv6Jz2",
        "outputId": "be8d99a6-fb2e-4f5f-e831-d50494dcf57d"
      },
      "execution_count": 18,
      "outputs": [
        {
          "output_type": "stream",
          "name": "stdout",
          "text": [
            "2       Royal Enfield Classic Gunmetal Grey\n",
            "7      Royal Enfield Bullet 350 [2007-2011]\n",
            "13                            Yamaha YZF R3\n",
            "18      Royal Enfield Classic Gunmetal Grey\n",
            "23                            Jawa Standard\n",
            "                       ...                 \n",
            "979               Royal Enfield Thunder 500\n",
            "981               Royal Enfield Thunder 350\n",
            "983               Royal Enfield Classic 350\n",
            "984               Royal Enfield Classic 500\n",
            "985               Royal Enfield Classic 500\n",
            "Name: name, Length: 157, dtype: object\n"
          ]
        }
      ]
    },
    {
      "cell_type": "markdown",
      "source": [
        "Q15 Develop a correlation matrix for numeric columns and visualize it using a heatmap."
      ],
      "metadata": {
        "id": "CC210ooX6iC0"
      }
    },
    {
      "cell_type": "code",
      "source": [
        "import numpy as np\n",
        "import seaborn as sns\n",
        "\n",
        "# Select only numeric columns\n",
        "numeric_df = df.select_dtypes(include=[np.number])\n",
        "\n",
        "# Calculate the correlation matrix for numeric columns\n",
        "correlation_matrix = numeric_df.corr()\n",
        "\n",
        "# Print the correlation matrix\n",
        "print(correlation_matrix)\n",
        "\n",
        "# Create a heatmap\n",
        "plt.figure(figsize=(10, 8))\n",
        "sns.heatmap(correlation_matrix, annot=True, cmap='coolwarm', linewidths=0.5)\n",
        "plt.title('Correlation Matrix Heatmap')\n",
        "plt.show()"
      ],
      "metadata": {
        "colab": {
          "base_uri": "https://localhost:8080/",
          "height": 1000
        },
        "id": "fgfkgSzf6g4B",
        "outputId": "1c489217-b1cc-4f45-c691-b80c1a8f6fab"
      },
      "execution_count": 19,
      "outputs": [
        {
          "output_type": "stream",
          "name": "stdout",
          "text": [
            "                   selling_price      year  km_driven  ex_showroom_price  \\\n",
            "selling_price           1.000000  0.402188  -0.212937           0.918583   \n",
            "year                    0.402188  1.000000  -0.288675           0.126378   \n",
            "km_driven              -0.212937 -0.288675   1.000000          -0.122011   \n",
            "ex_showroom_price       0.918583  0.126378  -0.122011           1.000000   \n",
            "age                    -0.402188 -1.000000   0.288675          -0.126378   \n",
            "depreciation            0.935495  0.512554  -0.228780           0.750566   \n",
            "selling_price_avg       0.501140  0.802547  -0.309402           0.146598   \n",
            "\n",
            "                        age  depreciation  selling_price_avg  \n",
            "selling_price     -0.402188      0.935495           0.501140  \n",
            "year              -1.000000      0.512554           0.802547  \n",
            "km_driven          0.288675     -0.228780          -0.309402  \n",
            "ex_showroom_price -0.126378      0.750566           0.146598  \n",
            "age                1.000000     -0.512554          -0.802547  \n",
            "depreciation      -0.512554      1.000000           0.654358  \n",
            "selling_price_avg -0.802547      0.654358           1.000000  \n"
          ]
        },
        {
          "output_type": "display_data",
          "data": {
            "text/plain": [
              "<Figure size 1000x800 with 2 Axes>"
            ],
            "image/png": "[encoded data removed]"
          },
          "metadata": {}
        }
      ]
    }
  ]
}